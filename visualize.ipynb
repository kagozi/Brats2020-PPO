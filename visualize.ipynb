{
 "cells": [
  {
   "cell_type": "code",
   "execution_count": 1,
   "id": "60d3f74f",
   "metadata": {},
   "outputs": [
    {
     "name": "stdout",
     "output_type": "stream",
     "text": [
      "[INFO] Using device: cpu\n"
     ]
    }
   ],
   "source": [
    "import torch\n",
    "import torch.nn.functional as F\n",
    "import numpy as np\n",
    "import matplotlib.pyplot as plt\n",
    "from torch.utils.data import DataLoader\n",
    "import os\n",
    "\n",
    "# Import your model classes - you'll need to copy these from your main file\n",
    "# or import them if you've structured your code as modules\n",
    "from main import PolicyNetwork, BrainTumorDataset, get_transforms, PPOAgent\n",
    "# Alternatively, copy the PolicyNetwork class definition here\n",
    "\n",
    "device = torch.device('cuda' if torch.cuda.is_available() else 'cpu')"
   ]
  },
  {
   "cell_type": "code",
   "execution_count": 2,
   "id": "6a436ea1",
   "metadata": {},
   "outputs": [
    {
     "name": "stdout",
     "output_type": "stream",
     "text": [
      "Model loaded successfully from ./checkpoints/best_policy.pt\n"
     ]
    }
   ],
   "source": [
    "# Initialize the model architecture\n",
    "input_channels = 4  # Adjust based on your data\n",
    "model = PolicyNetwork(input_channels=input_channels).to(device)\n",
    "\n",
    "# Load the saved weights\n",
    "checkpoint_path = './checkpoints/best_policy.pt'  # Adjust path as needed\n",
    "model.load_state_dict(torch.load(checkpoint_path, map_location=device))\n",
    "model.eval()\n",
    "print(f\"Model loaded successfully from {checkpoint_path}\")"
   ]
  },
  {
   "cell_type": "code",
   "execution_count": 5,
   "id": "5008ab3f",
   "metadata": {},
   "outputs": [
    {
     "name": "stdout",
     "output_type": "stream",
     "text": [
      "Testing on file: volume_54_slice_149.h5\n"
     ]
    }
   ],
   "source": [
    "# Set up your test dataset\n",
    "DATA_PATH = 'data/content/data'\n",
    "IMG_SIZE = (256, 256)\n",
    "\n",
    "# load a single file for testing\n",
    "test_transform = get_transforms(train=False, img_size=IMG_SIZE)\n",
    "\n",
    "# Load a single test sample\n",
    "test_files = [f for f in os.listdir(DATA_PATH) if f.endswith('.h5')]\n",
    "single_file = test_files[0]  # Change index to test different files\n",
    "print(f\"Testing on file: {single_file}\")"
   ]
  },
  {
   "cell_type": "code",
   "execution_count": 6,
   "id": "75b8e473",
   "metadata": {},
   "outputs": [
    {
     "name": "stdout",
     "output_type": "stream",
     "text": [
      "Policy probabilities: [[0.6330057  0.36699426]]\n",
      "Predicted value: [[0.00258545]]\n",
      "Prediction shape: torch.Size([1, 1, 256, 256])\n"
     ]
    }
   ],
   "source": [
    "# Create dataset with single file\n",
    "test_ds = BrainTumorDataset(DATA_PATH, [single_file], transform=test_transform)\n",
    "test_loader = DataLoader(test_ds, batch_size=1, shuffle=False)\n",
    "\n",
    "# Get one sample\n",
    "image, mask = next(iter(test_loader))\n",
    "image, mask = image.to(device), mask.to(device)\n",
    "\n",
    "# Perform inference\n",
    "with torch.no_grad():\n",
    "    policy_logits, value, seg_logits = model(image)\n",
    "    \n",
    "    # Get segmentation prediction\n",
    "    seg_pred = F.softmax(seg_logits, dim=1)\n",
    "    pred_mask = (seg_pred[:, 1:2] > 0.5).float()  # Binary mask from class 1\n",
    "    \n",
    "    # Get policy prediction\n",
    "    policy_probs = F.softmax(policy_logits, dim=-1)\n",
    "    \n",
    "print(f\"Policy probabilities: {policy_probs.cpu().numpy()}\")\n",
    "print(f\"Predicted value: {value.cpu().numpy()}\")\n",
    "print(f\"Prediction shape: {pred_mask.shape}\")"
   ]
  },
  {
   "cell_type": "code",
   "execution_count": 7,
   "id": "7f4e4bf1",
   "metadata": {},
   "outputs": [
    {
     "data": {
      "image/png": "[encoded data removed]",
      "text/plain": [
       "<Figure size 1600x400 with 4 Axes>"
      ]
     },
     "metadata": {},
     "output_type": "display_data"
    }
   ],
   "source": [
    "# Visualize the results\n",
    "fig, axes = plt.subplots(1, 4, figsize=(16, 4))\n",
    "\n",
    "# Original image (first channel)\n",
    "img_display = image[0, 0].cpu().numpy()\n",
    "axes[0].imshow(img_display, cmap='gray')\n",
    "axes[0].set_title('Original Image')\n",
    "axes[0].axis('off')\n",
    "\n",
    "# Ground truth mask\n",
    "gt_mask = mask[0, 0].cpu().numpy()\n",
    "axes[1].imshow(img_display, cmap='gray')\n",
    "axes[1].imshow(gt_mask, cmap='Reds', alpha=0.6)\n",
    "axes[1].set_title('Ground Truth')\n",
    "axes[1].axis('off')\n",
    "\n",
    "# Predicted mask\n",
    "pred_np = pred_mask[0, 0].cpu().numpy()\n",
    "axes[2].imshow(img_display, cmap='gray')\n",
    "axes[2].imshow(pred_np, cmap='Blues', alpha=0.6)\n",
    "axes[2].set_title('Prediction')\n",
    "axes[2].axis('off')\n",
    "\n",
    "# Overlay comparison\n",
    "axes[3].imshow(img_display, cmap='gray')\n",
    "axes[3].imshow(gt_mask, cmap='Reds', alpha=0.4, label='GT')\n",
    "axes[3].imshow(pred_np, cmap='Blues', alpha=0.4, label='Pred')\n",
    "axes[3].set_title('GT (Red) vs Pred (Blue)')\n",
    "axes[3].axis('off')\n",
    "\n",
    "plt.tight_layout()\n",
    "plt.show()"
   ]
  },
  {
   "cell_type": "code",
   "execution_count": 8,
   "id": "a75f5ce5",
   "metadata": {},
   "outputs": [
    {
     "name": "stdout",
     "output_type": "stream",
     "text": [
      "Dice Score: 1.0000\n",
      "IoU Score: 1.0000\n",
      "Tumor pixels in GT: 0\n",
      "Tumor pixels in Pred: 0\n"
     ]
    }
   ],
   "source": [
    "# Calculate basic metrics for this single sample\n",
    "def calculate_dice(pred, target, epsilon=1e-8):\n",
    "    pred_bin = (pred > 0.5).float()\n",
    "    target_bin = (target > 0.5).float()\n",
    "    intersection = (pred_bin * target_bin).sum()\n",
    "    union = pred_bin.sum() + target_bin.sum()\n",
    "    dice = (2 * intersection + epsilon) / (union + epsilon)\n",
    "    return dice.item()\n",
    "\n",
    "def calculate_iou(pred, target, epsilon=1e-8):\n",
    "    pred_bin = (pred > 0.5).float()\n",
    "    target_bin = (target > 0.5).float()\n",
    "    intersection = (pred_bin * target_bin).sum()\n",
    "    union = ((pred_bin + target_bin) > 0).sum()\n",
    "    iou = (intersection + epsilon) / (union + epsilon)\n",
    "    return iou.item()\n",
    "\n",
    "dice_score = calculate_dice(pred_mask, mask)\n",
    "iou_score = calculate_iou(pred_mask, mask)\n",
    "\n",
    "print(f\"Dice Score: {dice_score:.4f}\")\n",
    "print(f\"IoU Score: {iou_score:.4f}\")\n",
    "print(f\"Tumor pixels in GT: {(mask > 0.5).sum().item()}\")\n",
    "print(f\"Tumor pixels in Pred: {(pred_mask > 0.5).sum().item()}\")"
   ]
  },
  {
   "cell_type": "code",
   "execution_count": null,
   "id": "83181483",
   "metadata": {},
   "outputs": [],
   "source": []
  }
 ],
 "metadata": {
  "kernelspec": {
   "display_name": ".venv",
   "language": "python",
   "name": "python3"
  },
  "language_info": {
   "codemirror_mode": {
    "name": "ipython",
    "version": 3
   },
   "file_extension": ".py",
   "mimetype": "text/x-python",
   "name": "python",
   "nbconvert_exporter": "python",
   "pygments_lexer": "ipython3",
   "version": "3.9.6"
  }
 },
 "nbformat": 4,
 "nbformat_minor": 5
}
